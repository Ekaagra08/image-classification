{
 "cells": [
  {
   "cell_type": "code",
   "execution_count": 1,
   "metadata": {},
   "outputs": [],
   "source": [
    "import cv2 as cv\n",
    "import numpy as np\n",
    "import time"
   ]
  },
  {
   "cell_type": "code",
   "execution_count": 2,
   "metadata": {},
   "outputs": [],
   "source": [
    "def classify(imgfile_name):\n",
    "    \n",
    "    #read image\n",
    "    img=cv.imread('images/{}'.format(imgfile_name),1)\n",
    "    # Pre-process the image, with these values.\n",
    "    blob=cv.dnn.blobFromImage(img, 1, (224, 224), (104, 117, 123))\n",
    "    \n",
    "    if blob.all==0:\n",
    "        return 'Enter correct image name'\n",
    "    \n",
    "    #load model\n",
    "    # model weights file\n",
    "    weights = 'requisites/bvlc_googlenet.caffemodel'\n",
    "\n",
    "    # model architecture file\n",
    "    architecture ='requisites/bvlc_googlenet.prototxt'\n",
    "    \n",
    "    # read the pre-trained caffe model with its architecture \n",
    "    net = cv.dnn.readNetFromCaffe(architecture, weights)\n",
    "    \n",
    "    # Passing preprocessed data(blob) as input \n",
    "    net.setInput(blob)\n",
    "\n",
    "    #start timer\n",
    "    start=time.time()\n",
    "\n",
    "    # Perform the forward pass\n",
    "    pred = net.forward()\n",
    "\n",
    "    #end timer\n",
    "    end=time.time()\n",
    "    \n",
    "    #loading class dataset\n",
    "    rows = open('requisites/synset_words.txt').read().strip().split(\"\\n\")\n",
    "    #extracting the popularly used class names from the rows\n",
    "    classes=[(x[x.find(' ')+ 1:].split(','))[0] for x in rows]\n",
    "    \n",
    "    pred_score=np.max(pred[0])\n",
    "    lable=classes[np.argmax(pred[0])]\n",
    "    \n",
    "    \n",
    "    #write the predicted lable and % on the img\n",
    "    text=\"{}, {:.2f}%\".format(lable,pred_score*100)\n",
    "    cv.putText(img, text, (50, 50 ),  cv.FONT_HERSHEY_COMPLEX, 1, (255, 225,0), 2)    \n",
    "    \n",
    "    #display img\n",
    "    print(\" Classification compleation Time: {:.6} seconds\\n image size: {} \\n Accuracy: {:.2f}%\".format(end-start,img.shape,pred_score*100))\n",
    "    cv.imshow(\"input img\",img)\n",
    "    cv.waitKey(0)\n",
    "    cv.destroyAllWindows()\n",
    "    \n"
   ]
  },
  {
   "cell_type": "code",
   "execution_count": 3,
   "metadata": {},
   "outputs": [
    {
     "name": "stdout",
     "output_type": "stream",
     "text": [
      " Classification compleation Time: 0.168896 seconds\n",
      " image size: (599, 800, 3) \n",
      " Accuracy: 75.30%\n"
     ]
    }
   ],
   "source": [
    "classify('cat.webp')"
   ]
  },
  {
   "cell_type": "code",
   "execution_count": 4,
   "metadata": {},
   "outputs": [
    {
     "name": "stdout",
     "output_type": "stream",
     "text": [
      " Classification compleation Time: 0.150905 seconds\n",
      " image size: (191, 264, 3) \n",
      " Accuracy: 99.51%\n"
     ]
    }
   ],
   "source": [
    "classify('goldfish.jpg')"
   ]
  },
  {
   "cell_type": "code",
   "execution_count": 5,
   "metadata": {},
   "outputs": [
    {
     "name": "stdout",
     "output_type": "stream",
     "text": [
      " Classification compleation Time: 0.164898 seconds\n",
      " image size: (720, 480, 3) \n",
      " Accuracy: 100.00%\n"
     ]
    }
   ],
   "source": [
    "classify('traffic-lights.jpg')"
   ]
  }
 ],
 "metadata": {
  "kernelspec": {
   "display_name": "Python 3",
   "language": "python",
   "name": "python3"
  },
  "language_info": {
   "codemirror_mode": {
    "name": "ipython",
    "version": 3
   },
   "file_extension": ".py",
   "mimetype": "text/x-python",
   "name": "python",
   "nbconvert_exporter": "python",
   "pygments_lexer": "ipython3",
   "version": "3.8.5"
  }
 },
 "nbformat": 4,
 "nbformat_minor": 4
}
